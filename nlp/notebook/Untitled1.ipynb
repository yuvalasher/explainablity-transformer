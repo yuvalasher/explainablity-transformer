{
 "cells": [
  {
   "cell_type": "code",
   "execution_count": 236,
   "id": "fc0cec8f-0bc4-41a6-b0b5-0cfd6fb8f993",
   "metadata": {},
   "outputs": [],
   "source": [
    "import os\n",
    "import torch\n",
    "import torch.nn as nn"
   ]
  },
  {
   "cell_type": "code",
   "execution_count": 237,
   "id": "709720bb-d35e-493d-85d2-34d223757a5a",
   "metadata": {},
   "outputs": [],
   "source": [
    "os.chdir('C:/Users/amitx/Documents/Amit/Projects_Python/explainablity-transformer')"
   ]
  },
  {
   "cell_type": "code",
   "execution_count": 238,
   "id": "bd386fd1-147c-4a90-a8b1-a333431e8627",
   "metadata": {},
   "outputs": [],
   "source": [
    "from transformers import BertForSequenceClassification\n",
    "from nlp.BERT_explainability.modules.BERT.BertForSequenceClassification import BertForSequenceClassification\n",
    "from nlp.BERT_explainability.modules.BERT.BertForSequenceClassification import BertForSequenceClassification as T_BertForSequenceClassification"
   ]
  },
  {
   "cell_type": "code",
   "execution_count": null,
   "id": "f75bdc41-2def-4c46-ba28-262349f8a4a9",
   "metadata": {},
   "outputs": [],
   "source": []
  },
  {
   "cell_type": "code",
   "execution_count": 4,
   "id": "ba467870-9fc6-469d-992a-b814bfdc937f",
   "metadata": {},
   "outputs": [],
   "source": [
    "model_name = 'textattack/bert-base-uncased-SST-2'"
   ]
  },
  {
   "cell_type": "code",
   "execution_count": 5,
   "id": "bfb083e8-7b80-44e1-8992-e03f67a54a21",
   "metadata": {},
   "outputs": [],
   "source": [
    "model_save_dir = 'nlp/notebook/classifier_hila.pt'"
   ]
  },
  {
   "cell_type": "code",
   "execution_count": 8,
   "id": "21412c65-98aa-449e-8f27-dd775c31fb7b",
   "metadata": {},
   "outputs": [
    {
     "data": {
      "text/plain": [
       "<All keys matched successfully>"
      ]
     },
     "execution_count": 8,
     "metadata": {},
     "output_type": "execute_result"
    }
   ],
   "source": [
    "test_classifier = BertForSequenceClassification.from_pretrained(model_name, num_labels=2).to('cpu')\n",
    "test_classifier.load_state_dict(torch.load(model_save_dir,map_location=torch.device('cpu')))"
   ]
  },
  {
   "cell_type": "code",
   "execution_count": 11,
   "id": "955ca165-4968-4798-b891-2096bec054b6",
   "metadata": {},
   "outputs": [
    {
     "name": "stderr",
     "output_type": "stream",
     "text": [
      "Some weights of BertForSequenceClassification were not initialized from the model checkpoint at textattack/bert-base-uncased-SST-2 and are newly initialized: ['bert.encoder.x_attention']\n",
      "You should probably TRAIN this model on a down-stream task to be able to use it for predictions and inference.\n"
     ]
    }
   ],
   "source": [
    "temp_classifier = T_BertForSequenceClassification.from_pretrained(model_name, num_labels=2).to('cpu')"
   ]
  },
  {
   "cell_type": "code",
   "execution_count": null,
   "id": "f4a3c012-db8e-420e-9b88-e7abad6e36fd",
   "metadata": {},
   "outputs": [],
   "source": [
    "self.image_classification = nn.Linear(emb_size, n_classes)\n",
    "self.image_classification.load_state_dict(vit_with_classification_head.classifier.state_dict())"
   ]
  },
  {
   "cell_type": "code",
   "execution_count": null,
   "id": "9a1e996d-3f2e-4e0b-bdcc-5dbabaf87694",
   "metadata": {},
   "outputs": [
    {
     "data": {
      "text/plain": [
       "OrderedDict([('weight',\n",
       "              tensor([[-0.0102, -0.0615, -0.0265,  ..., -0.0199, -0.0372, -0.0098],\n",
       "                      [-0.0117, -0.0600, -0.0323,  ..., -0.0168, -0.0401, -0.0107],\n",
       "                      [-0.0198, -0.0627, -0.0326,  ..., -0.0165, -0.0420, -0.0032],\n",
       "                      ...,\n",
       "                      [-0.0218, -0.0556, -0.0135,  ..., -0.0043, -0.0151, -0.0249],\n",
       "                      [-0.0462, -0.0565, -0.0019,  ...,  0.0157, -0.0139, -0.0095],\n",
       "                      [ 0.0015, -0.0821, -0.0160,  ..., -0.0081, -0.0475,  0.0753]]))])"
      ]
     },
     "execution_count": 19,
     "metadata": {},
     "output_type": "execute_result"
    }
   ],
   "source": [
    "test_classifier.bert.embeddings.word_embeddings.state_dict()"
   ]
  },
  {
   "cell_type": "code",
   "execution_count": 44,
   "id": "adbb3d63-4696-49b1-a91c-4a8c9491b7c1",
   "metadata": {},
   "outputs": [
    {
     "data": {
      "text/plain": [
       "<All keys matched successfully>"
      ]
     },
     "execution_count": 44,
     "metadata": {},
     "output_type": "execute_result"
    }
   ],
   "source": [
    "temp_classifier.bert.embeddings.load_state_dict(test_classifier.bert.embeddings.state_dict())\n",
    "temp_classifier.bert.encoder.layer.load_state_dict(test_classifier.bert.encoder.layer.state_dict())\n",
    "temp_classifier.bert.pooler.load_state_dict(test_classifier.bert.pooler.state_dict())\n",
    "temp_classifier.dropout.load_state_dict(test_classifier.dropout.state_dict())\n",
    "temp_classifier.classifier.load_state_dict(test_classifier.classifier.state_dict())\n",
    "\n",
    "\n"
   ]
  },
  {
   "cell_type": "code",
   "execution_count": 46,
   "id": "c3001c15-6632-4191-b0c7-5462b5dc269e",
   "metadata": {},
   "outputs": [
    {
     "data": {
      "text/plain": [
       "<All keys matched successfully>"
      ]
     },
     "execution_count": 46,
     "metadata": {},
     "output_type": "execute_result"
    }
   ],
   "source": [
    "temp_classifier.classifier.load_state_dict(test_classifier.classifier.state_dict())\n",
    "\n"
   ]
  },
  {
   "cell_type": "code",
   "execution_count": null,
   "id": "e441df58-d09a-4991-abb2-c321d487f6a8",
   "metadata": {},
   "outputs": [],
   "source": []
  },
  {
   "cell_type": "code",
   "execution_count": 37,
   "id": "b3909cf6-8708-4632-be47-19ac2c5ee2eb",
   "metadata": {},
   "outputs": [
    {
     "data": {
      "text/plain": [
       "<All keys matched successfully>"
      ]
     },
     "execution_count": 37,
     "metadata": {},
     "output_type": "execute_result"
    }
   ],
   "source": [
    "temp_classifier.bert.encoder.layer.load_state_dict(test_classifier.bert.encoder.layer.state_dict())"
   ]
  },
  {
   "cell_type": "code",
   "execution_count": 42,
   "id": "acedd983-70f9-4db0-91e3-ba41634c38ac",
   "metadata": {},
   "outputs": [],
   "source": [
    "temp_classifier.bert.encoder.x_attention.data  = nn.Parameter(torch.ones(12, 12, input_ids.shape[0], requires_grad=True))"
   ]
  },
  {
   "cell_type": "code",
   "execution_count": 90,
   "id": "7d456f88-4543-4daa-bf87-7716df3087d8",
   "metadata": {},
   "outputs": [],
   "source": [
    "from torch.functional import F\n",
    "from torch import Tensor"
   ]
  },
  {
   "cell_type": "code",
   "execution_count": 91,
   "id": "bec3f57b-c58d-4c9e-a902-e7fec52dfc67",
   "metadata": {},
   "outputs": [],
   "source": [
    "def entropy(p_dist: Tensor) -> Tensor:\n",
    "    # return sum([-p * torch.log2(p) if p > 0 else 0 for p in p_dist])\n",
    "    return torch.sum(torch.nan_to_num_(-torch.log2(p_dist) * p_dist, nan=0.0))"
   ]
  },
  {
   "cell_type": "code",
   "execution_count": 113,
   "id": "73ea78f0-9cf3-4547-ad2c-9b7565a112ea",
   "metadata": {},
   "outputs": [],
   "source": [
    "from scipy.stats import entropy as s_entropy"
   ]
  },
  {
   "cell_type": "code",
   "execution_count": 194,
   "id": "8922cdc0-a103-4f83-b3d4-759f2325e9e6",
   "metadata": {},
   "outputs": [
    {
     "data": {
      "text/plain": [
       "tensor([[[0.2000, 0.2000, 0.2000, 0.2000, 0.2000],\n",
       "         [0.2000, 0.2000, 0.2000, 0.2000, 0.2000]],\n",
       "\n",
       "        [[0.2000, 0.2000, 0.2000, 0.2000, 0.2000],\n",
       "         [0.2000, 0.2000, 0.2000, 0.2000, 0.2000]]])"
      ]
     },
     "execution_count": 194,
     "metadata": {},
     "output_type": "execute_result"
    }
   ],
   "source": [
    "temp = torch.ones((2,2,5))\n",
    "\n",
    "a = F.softmax(temp,dim=-1)\n",
    "\n",
    "a"
   ]
  },
  {
   "cell_type": "code",
   "execution_count": 195,
   "id": "ef123812-7e5a-48dd-a191-7f3f6f8263e0",
   "metadata": {},
   "outputs": [],
   "source": [
    "a[0][1] = torch.rand(5)\n",
    "a[1][1] = torch.rand(5)\n"
   ]
  },
  {
   "cell_type": "code",
   "execution_count": 202,
   "id": "527d36d1-e9ef-4a25-b94b-a2f7e1c952f6",
   "metadata": {},
   "outputs": [
    {
     "data": {
      "text/plain": [
       "(tensor([[[0.2000, 0.2000, 0.2000, 0.2000, 0.2000],\n",
       "          [0.8808, 0.3603, 0.1882, 0.7907, 0.0922]],\n",
       " \n",
       "         [[0.2000, 0.2000, 0.2000, 0.2000, 0.2000],\n",
       "          [0.2107, 0.7202, 0.5368, 0.6972, 0.6425]]]),\n",
       " torch.Size([2, 2, 5]))"
      ]
     },
     "execution_count": 202,
     "metadata": {},
     "output_type": "execute_result"
    }
   ],
   "source": [
    "a , a.shape"
   ]
  },
  {
   "cell_type": "code",
   "execution_count": 197,
   "id": "4cf0eda4-7aa0-4b13-aa38-c48b921c1a4a",
   "metadata": {},
   "outputs": [],
   "source": [
    "b = a.reshape(-1)"
   ]
  },
  {
   "cell_type": "code",
   "execution_count": 201,
   "id": "22365e5f-cbb0-4b20-b4c6-28e6c4b51be8",
   "metadata": {},
   "outputs": [
    {
     "name": "stdout",
     "output_type": "stream",
     "text": [
      "a[0][0] tensor(2.3219) a[0][1] tensor(1.7302) sum of them: 4.052085876464844\n",
      "a[0][0] tensor(2.3219) a[0][1] tensor(2.0691) sum of them: 4.391014099121094\n",
      "8.443099975585938\n",
      "tensor(8.4431)\n",
      "tensor(8.4431)\n"
     ]
    }
   ],
   "source": [
    "sum_row_0=entropy(a[0][0]) + entropy(a[0][1])\n",
    "sum_row_1=entropy(a[1][0]) + entropy(a[1][1])\n",
    "total_rows = sum_row_0 + sum_row_1\n",
    "print('a[0][0]',entropy(a[0][0]),'a[0][1]', entropy(a[0][1]),'sum of them:' ,sum_row_0.item())\n",
    "print('a[0][0]',entropy(a[1][0]),'a[0][1]', entropy(a[1][1]),'sum of them:' ,sum_row_1.item())\n",
    "print(total_rows.item())\n",
    "print(entropy(a))\n",
    "print(entropy(b))"
   ]
  },
  {
   "cell_type": "code",
   "execution_count": 203,
   "id": "5c74a638-9e3b-4e99-b023-c719c4eceaa2",
   "metadata": {},
   "outputs": [
    {
     "data": {
      "text/plain": [
       "tensor(4.0521)"
      ]
     },
     "execution_count": 203,
     "metadata": {},
     "output_type": "execute_result"
    }
   ],
   "source": [
    "entropy(a[0])"
   ]
  },
  {
   "cell_type": "code",
   "execution_count": 141,
   "id": "9b15ecba-d646-43a1-8aee-c24d636ffa90",
   "metadata": {},
   "outputs": [
    {
     "data": {
      "text/plain": [
       "tensor(4.6439)"
      ]
     },
     "execution_count": 141,
     "metadata": {},
     "output_type": "execute_result"
    }
   ],
   "source": [
    "entropy(b)"
   ]
  },
  {
   "cell_type": "code",
   "execution_count": null,
   "id": "3dd8acba-09c1-400d-8af5-263043825dfe",
   "metadata": {},
   "outputs": [],
   "source": [
    "plt.plot(range(len(epoch_temp_loss)),epoch_temp_loss)\n",
    "plt.title('temp_loss')\n",
    "plt.show()"
   ]
  },
  {
   "cell_type": "code",
   "execution_count": 204,
   "id": "29f019c6-f74c-481b-8f72-f5a72a954fbf",
   "metadata": {},
   "outputs": [],
   "source": [
    "arr =(['to', 'the', 'which', 'it', '##da', 'about', 'films', 'spit', 'laughs', 'out', 'gore', '.', 'it', 'mechanical', '-', 's', 'most', 'effects', 'up', 'primarily', ',', '##y', 'in', 'making', 'who', '-', 'rising', 'manner', \"'\", '##lock', '-', 'to', 'conspicuous', 'a', 'something'], ['##ke', 'films', 'something', 'the', 'underwater', '##ssen', 'snake', '##m', 'williams', 'almost', 'should', 'marine', 'at', 'for', 'who', 'the', 'a', 'pass', 'i', 'do', 'at', '(', 'a', 'i', 'a', 'much', 'to', ')', 'joy', 'alive', '.', 'yarn', 'be', 'even', 'ingredients'])"
   ]
  },
  {
   "cell_type": "code",
   "execution_count": 212,
   "id": "8465a99d-737a-4d8c-a3e9-a5609484e980",
   "metadata": {},
   "outputs": [],
   "source": [
    "import pandas as pd\n",
    "import numpy as np"
   ]
  },
  {
   "cell_type": "code",
   "execution_count": 215,
   "id": "201d5263-1e14-4d6a-8011-5b42c83d427a",
   "metadata": {},
   "outputs": [],
   "source": [
    "arr = np.array(arr)"
   ]
  },
  {
   "cell_type": "code",
   "execution_count": 218,
   "id": "c9c60daf-9517-4ce8-89fc-5bd3a6e8050b",
   "metadata": {},
   "outputs": [],
   "source": [
    "arr = arr.T"
   ]
  },
  {
   "cell_type": "code",
   "execution_count": 221,
   "id": "9f567e18-3c21-4bea-ba7a-9578b680f48f",
   "metadata": {},
   "outputs": [],
   "source": []
  },
  {
   "cell_type": "code",
   "execution_count": 224,
   "id": "6a317b19-2245-4bda-be44-dadaf7f0b272",
   "metadata": {},
   "outputs": [],
   "source": [
    "import matplotlib.pyplot as plt"
   ]
  },
  {
   "cell_type": "code",
   "execution_count": 228,
   "id": "c8a09fb6-b604-4c2c-bc8a-efebbb934c10",
   "metadata": {},
   "outputs": [],
   "source": [
    "arr = np.random.rand(10)"
   ]
  },
  {
   "cell_type": "code",
   "execution_count": 229,
   "id": "00262360-e04a-4505-888b-886fa5f3fd5f",
   "metadata": {},
   "outputs": [
    {
     "data": {
      "text/plain": [
       "array([0.87291597, 0.50712042, 0.85536158, 0.69203616, 0.43494609,\n",
       "       0.19930584, 0.73777614, 0.99746578, 0.94531754, 0.72281666])"
      ]
     },
     "execution_count": 229,
     "metadata": {},
     "output_type": "execute_result"
    }
   ],
   "source": [
    "arr"
   ]
  },
  {
   "cell_type": "code",
   "execution_count": 235,
   "id": "6a6b3b18-2ef2-4315-a3ab-eb0dc9bc7e94",
   "metadata": {},
   "outputs": [
    {
     "data": {
      "image/png": "[encoded data removed]",
      "text/plain": [
       "<Figure size 432x288 with 1 Axes>"
      ]
     },
     "metadata": {
      "needs_background": "light"
     },
     "output_type": "display_data"
    }
   ],
   "source": [
    "plt.plot(range(len(arr)),arr)\n",
    "plt.title('arr as k_tokens')\n",
    "plt.xlabel('k_tokens')\n",
    "plt.ylabel('score')\n",
    "plt.show()"
   ]
  },
  {
   "cell_type": "code",
   "execution_count": null,
   "id": "a6823da7-b590-4dde-b416-76f6d03fc700",
   "metadata": {},
   "outputs": [],
   "source": []
  }
 ],
 "metadata": {
  "kernelspec": {
   "display_name": "explainablity_nlp_transformer",
   "language": "python",
   "name": "explainablity_nlp_transformer"
  },
  "language_info": {
   "codemirror_mode": {
    "name": "ipython",
    "version": 3
   },
   "file_extension": ".py",
   "mimetype": "text/x-python",
   "name": "python",
   "nbconvert_exporter": "python",
   "pygments_lexer": "ipython3",
   "version": "3.7.11"
  }
 },
 "nbformat": 4,
 "nbformat_minor": 5
}
