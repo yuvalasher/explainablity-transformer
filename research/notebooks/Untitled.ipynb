{
 "cells": [
  {
   "cell_type": "code",
   "execution_count": 4,
   "id": "1a415e17-2e9b-4b1f-b83b-c3b160afc630",
   "metadata": {},
   "outputs": [],
   "source": [
    "import os\n",
    "import numpy as np\n",
    "import pandas as pd\n",
    "from sklearn.metrics import f1_score\n",
    "import matplotlib.pyplot as plt"
   ]
  },
  {
   "cell_type": "code",
   "execution_count": 66,
   "id": "d03d3ce7-af2c-4065-946f-ae3f087875be",
   "metadata": {},
   "outputs": [],
   "source": [
    "arr1=np.random.rand(1,10)\n",
    "\n",
    "df1=pd.DataFrame(np.where(arr>0.5,1,0))\n",
    "df1['label']=0\n",
    "\n"
   ]
  },
  {
   "cell_type": "code",
   "execution_count": 75,
   "id": "729ca58c-53ee-4088-8dd7-60b6379474b3",
   "metadata": {},
   "outputs": [],
   "source": [
    "df1=pd.DataFrame([])"
   ]
  },
  {
   "cell_type": "code",
   "execution_count": 93,
   "id": "a22988c7-a2bd-4cc5-b3f1-f8022cd2bbb8",
   "metadata": {},
   "outputs": [],
   "source": [
    "arr2=np.random.rand(1,10)\n",
    "df2=pd.DataFrame(np.where(arr2>0.5,1,0))\n",
    "df2['label']=0\n",
    "\n",
    "df1=pd.concat((df1,df2))"
   ]
  },
  {
   "cell_type": "code",
   "execution_count": 96,
   "id": "fc512bda-c2bb-491d-988a-92e4a7d43988",
   "metadata": {},
   "outputs": [
    {
     "data": {
      "text/html": [
       "<div>\n",
       "<style scoped>\n",
       "    .dataframe tbody tr th:only-of-type {\n",
       "        vertical-align: middle;\n",
       "    }\n",
       "\n",
       "    .dataframe tbody tr th {\n",
       "        vertical-align: top;\n",
       "    }\n",
       "\n",
       "    .dataframe thead th {\n",
       "        text-align: right;\n",
       "    }\n",
       "</style>\n",
       "<table border=\"1\" class=\"dataframe\">\n",
       "  <thead>\n",
       "    <tr style=\"text-align: right;\">\n",
       "      <th></th>\n",
       "      <th>0</th>\n",
       "      <th>1</th>\n",
       "      <th>2</th>\n",
       "      <th>3</th>\n",
       "      <th>4</th>\n",
       "      <th>5</th>\n",
       "      <th>6</th>\n",
       "      <th>7</th>\n",
       "      <th>8</th>\n",
       "      <th>9</th>\n",
       "      <th>label</th>\n",
       "    </tr>\n",
       "  </thead>\n",
       "  <tbody>\n",
       "    <tr>\n",
       "      <th>0</th>\n",
       "      <td>1</td>\n",
       "      <td>0</td>\n",
       "      <td>1</td>\n",
       "      <td>1</td>\n",
       "      <td>0</td>\n",
       "      <td>1</td>\n",
       "      <td>0</td>\n",
       "      <td>1</td>\n",
       "      <td>1</td>\n",
       "      <td>1</td>\n",
       "      <td>0</td>\n",
       "    </tr>\n",
       "    <tr>\n",
       "      <th>0</th>\n",
       "      <td>0</td>\n",
       "      <td>1</td>\n",
       "      <td>1</td>\n",
       "      <td>0</td>\n",
       "      <td>0</td>\n",
       "      <td>1</td>\n",
       "      <td>1</td>\n",
       "      <td>1</td>\n",
       "      <td>0</td>\n",
       "      <td>1</td>\n",
       "      <td>0</td>\n",
       "    </tr>\n",
       "    <tr>\n",
       "      <th>0</th>\n",
       "      <td>0</td>\n",
       "      <td>1</td>\n",
       "      <td>1</td>\n",
       "      <td>1</td>\n",
       "      <td>1</td>\n",
       "      <td>1</td>\n",
       "      <td>0</td>\n",
       "      <td>0</td>\n",
       "      <td>0</td>\n",
       "      <td>1</td>\n",
       "      <td>0</td>\n",
       "    </tr>\n",
       "    <tr>\n",
       "      <th>0</th>\n",
       "      <td>0</td>\n",
       "      <td>0</td>\n",
       "      <td>0</td>\n",
       "      <td>0</td>\n",
       "      <td>1</td>\n",
       "      <td>1</td>\n",
       "      <td>0</td>\n",
       "      <td>1</td>\n",
       "      <td>1</td>\n",
       "      <td>1</td>\n",
       "      <td>0</td>\n",
       "    </tr>\n",
       "    <tr>\n",
       "      <th>0</th>\n",
       "      <td>0</td>\n",
       "      <td>0</td>\n",
       "      <td>1</td>\n",
       "      <td>0</td>\n",
       "      <td>1</td>\n",
       "      <td>0</td>\n",
       "      <td>1</td>\n",
       "      <td>1</td>\n",
       "      <td>0</td>\n",
       "      <td>0</td>\n",
       "      <td>0</td>\n",
       "    </tr>\n",
       "  </tbody>\n",
       "</table>\n",
       "</div>"
      ],
      "text/plain": [
       "   0  1  2  3  4  5  6  7  8  9  label\n",
       "0  1  0  1  1  0  1  0  1  1  1      0\n",
       "0  0  1  1  0  0  1  1  1  0  1      0\n",
       "0  0  1  1  1  1  1  0  0  0  1      0\n",
       "0  0  0  0  0  1  1  0  1  1  1      0\n",
       "0  0  0  1  0  1  0  1  1  0  0      0"
      ]
     },
     "execution_count": 96,
     "metadata": {},
     "output_type": "execute_result"
    }
   ],
   "source": [
    "df1"
   ]
  },
  {
   "cell_type": "code",
   "execution_count": 97,
   "id": "359fc89c-3426-4cc5-ac03-3dcef31c7b9e",
   "metadata": {},
   "outputs": [
    {
     "data": {
      "text/plain": [
       "0.0"
      ]
     },
     "execution_count": 97,
     "metadata": {},
     "output_type": "execute_result"
    }
   ],
   "source": [
    "f1_score(df1['label'],df1[8])"
   ]
  },
  {
   "cell_type": "code",
   "execution_count": 98,
   "id": "7f37fafe-efde-4250-b89b-730b38a6fec4",
   "metadata": {},
   "outputs": [],
   "source": [
    "f1_arr=[]\n",
    "k_arr = []\n",
    "for k in range(10):\n",
    "    score=f1_score(df1['label'],df1[k])\n",
    "    f1_arr.append(score)\n",
    "    k_arr.append(k)"
   ]
  },
  {
   "cell_type": "code",
   "execution_count": 142,
   "id": "7487c718-4f8f-45f0-9546-04adac00c243",
   "metadata": {},
   "outputs": [],
   "source": [
    "import yaml"
   ]
  },
  {
   "cell_type": "code",
   "execution_count": null,
   "id": "d754cc37-812c-41f4-996f-838cf7170fa2",
   "metadata": {},
   "outputs": [],
   "source": [
    "with open('config/config.yaml','r') as f:\n",
    "    yaml"
   ]
  },
  {
   "cell_type": "code",
   "execution_count": 121,
   "id": "636bca2f-94be-4fe4-8e9b-8910fac8fec7",
   "metadata": {},
   "outputs": [],
   "source": [
    "num=100"
   ]
  },
  {
   "cell_type": "code",
   "execution_count": 122,
   "id": "eb0b3992-b945-492c-8840-b98907a1b2a6",
   "metadata": {},
   "outputs": [],
   "source": [
    "step=10"
   ]
  },
  {
   "cell_type": "code",
   "execution_count": 127,
   "id": "1d936a21-042b-4d34-8f52-fe50524c6cb7",
   "metadata": {},
   "outputs": [],
   "source": [
    "from datetime import datetime"
   ]
  },
  {
   "cell_type": "code",
   "execution_count": 140,
   "id": "4cb55e78-170a-4882-a61a-c41813fdead1",
   "metadata": {},
   "outputs": [],
   "source": [
    "now=datetime.now().strftime(\"%m_%d_%Y__%H_%M_%S\")"
   ]
  },
  {
   "cell_type": "code",
   "execution_count": 141,
   "id": "54c109e8-84bc-4582-902f-216a6305ebe4",
   "metadata": {},
   "outputs": [
    {
     "data": {
      "text/plain": [
       "'04_26_2022__01_09_36'"
      ]
     },
     "execution_count": 141,
     "metadata": {},
     "output_type": "execute_result"
    }
   ],
   "source": [
    "now\n"
   ]
  },
  {
   "cell_type": "code",
   "execution_count": 125,
   "id": "7d804a36-361b-4350-a518-4f70068724bd",
   "metadata": {},
   "outputs": [
    {
     "data": {
      "text/plain": [
       "array([  0,  10,  20,  30,  40,  50,  60,  70,  80,  90, 100])"
      ]
     },
     "execution_count": 125,
     "metadata": {},
     "output_type": "execute_result"
    }
   ],
   "source": [
    "np.arange(num+step,step=step)"
   ]
  },
  {
   "cell_type": "code",
   "execution_count": 137,
   "id": "4a17e7d7-dfd7-4ef3-ada8-7188ce75d8b4",
   "metadata": {},
   "outputs": [
    {
     "data": {
      "image/png": "[encoded data removed]",
      "text/plain": [
       "<Figure size 432x288 with 1 Axes>"
      ]
     },
     "metadata": {
      "needs_background": "light"
     },
     "output_type": "display_data"
    }
   ],
   "source": [
    "plt.plot(k_arr,f1_arr,label='f1_score')\n",
    "plt.legend()\n",
    "plt.savefig('test')"
   ]
  },
  {
   "cell_type": "code",
   "execution_count": 181,
   "id": "ab89b9e7-17e5-4b43-b616-7fbaf239f042",
   "metadata": {},
   "outputs": [],
   "source": [
    "path='../../datasets/movies/'"
   ]
  },
  {
   "cell_type": "code",
   "execution_count": 183,
   "id": "77e592df-8357-4368-ad38-c4038d89db49",
   "metadata": {},
   "outputs": [
    {
     "data": {
      "text/plain": [
       "'../../datasets/movies/train.josnl'"
      ]
     },
     "execution_count": 183,
     "metadata": {},
     "output_type": "execute_result"
    }
   ],
   "source": [
    "path+'train.josnl'"
   ]
  },
  {
   "cell_type": "code",
   "execution_count": 184,
   "id": "9eb5c082-2be2-462c-a41b-6fd2eb9b03f3",
   "metadata": {},
   "outputs": [],
   "source": [
    "df_train=pd.read_json(path_or_buf=path+'train.jsonl',lines=True)\n",
    "df_val=pd.read_json(path_or_buf=path+'val.jsonl',lines=True)\n",
    "df_test=pd.read_json(path_or_buf=path+'test.jsonl',lines=True)"
   ]
  },
  {
   "cell_type": "code",
   "execution_count": 188,
   "id": "6841c64c-75ee-4517-a15e-66bdf62dddf1",
   "metadata": {
    "collapsed": true,
    "jupyter": {
     "outputs_hidden": true
    },
    "tags": []
   },
   "outputs": [
    {
     "data": {
      "text/plain": [
       "[[{'docid': 'negR_000.txt',\n",
       "   'end_sentence': 6,\n",
       "   'end_token': 67,\n",
       "   'start_sentence': 5,\n",
       "   'start_token': 63,\n",
       "   'text': 'mind - fuck movie'}],\n",
       " [{'docid': 'negR_000.txt',\n",
       "   'end_sentence': 21,\n",
       "   'end_token': 375,\n",
       "   'start_sentence': 20,\n",
       "   'start_token': 371,\n",
       "   'text': 'the sad part is'}],\n",
       " [{'docid': 'negR_000.txt',\n",
       "   'end_sentence': 13,\n",
       "   'end_token': 203,\n",
       "   'start_sentence': 12,\n",
       "   'start_token': 196,\n",
       "   'text': 'downshifts into this \" fantasy \" world'}],\n",
       " [{'docid': 'negR_000.txt',\n",
       "   'end_sentence': 17,\n",
       "   'end_token': 318,\n",
       "   'start_sentence': 16,\n",
       "   'start_token': 309,\n",
       "   'text': 'i get kind of fed up after a while'}],\n",
       " [{'docid': 'negR_000.txt',\n",
       "   'end_sentence': 35,\n",
       "   'end_token': 698,\n",
       "   'start_sentence': 34,\n",
       "   'start_token': 696,\n",
       "   'text': 'pretty redundant'}],\n",
       " [{'docid': 'negR_000.txt',\n",
       "   'end_sentence': 11,\n",
       "   'end_token': 187,\n",
       "   'start_sentence': 10,\n",
       "   'start_token': 182,\n",
       "   'text': \"it 's simply too jumbled\"}],\n",
       " [{'docid': 'negR_000.txt',\n",
       "   'end_sentence': 14,\n",
       "   'end_token': 219,\n",
       "   'start_sentence': 13,\n",
       "   'start_token': 212,\n",
       "   'text': \"have no idea what 's going on\"}],\n",
       " [{'docid': 'negR_000.txt',\n",
       "   'end_sentence': 7,\n",
       "   'end_token': 150,\n",
       "   'start_sentence': 6,\n",
       "   'start_token': 143,\n",
       "   'text': \"just did n't snag this one correctly\"}],\n",
       " [{'docid': 'negR_000.txt',\n",
       "   'end_sentence': 27,\n",
       "   'end_token': 529,\n",
       "   'start_sentence': 26,\n",
       "   'start_token': 517,\n",
       "   'text': 'do we really need to see it over and over again ?'}],\n",
       " [{'docid': 'negR_000.txt',\n",
       "   'end_sentence': 6,\n",
       "   'end_token': 87,\n",
       "   'start_sentence': 5,\n",
       "   'start_token': 83,\n",
       "   'text': 'a very bad package'}],\n",
       " [{'docid': 'negR_000.txt',\n",
       "   'end_sentence': 33,\n",
       "   'end_token': 680,\n",
       "   'start_sentence': 32,\n",
       "   'start_token': 675,\n",
       "   'text': \"the film does n't stick\"}],\n",
       " [{'docid': 'negR_000.txt',\n",
       "   'end_sentence': 34,\n",
       "   'end_token': 693,\n",
       "   'start_sentence': 33,\n",
       "   'start_token': 681,\n",
       "   'text': \"it does n't entertain , it 's confusing , it rarely excites\"}],\n",
       " [{'docid': 'negR_000.txt',\n",
       "   'end_sentence': 4,\n",
       "   'end_token': 48,\n",
       "   'start_sentence': 3,\n",
       "   'start_token': 43,\n",
       "   'text': \"what 's the deal ?\"}],\n",
       " [{'docid': 'negR_000.txt',\n",
       "   'end_sentence': 9,\n",
       "   'end_token': 165,\n",
       "   'start_sentence': 8,\n",
       "   'start_token': 162,\n",
       "   'text': 'executed it terribly'}],\n",
       " [{'docid': 'negR_000.txt',\n",
       "   'end_sentence': 20,\n",
       "   'end_token': 370,\n",
       "   'start_sentence': 19,\n",
       "   'start_token': 368,\n",
       "   'text': 'not really'}],\n",
       " [{'docid': 'negR_000.txt',\n",
       "   'end_sentence': 41,\n",
       "   'end_token': 787,\n",
       "   'start_sentence': 40,\n",
       "   'start_token': 784,\n",
       "   'text': 'skip it !'}]]"
      ]
     },
     "execution_count": 188,
     "metadata": {},
     "output_type": "execute_result"
    }
   ],
   "source": [
    "df_train.evidences[0]"
   ]
  },
  {
   "cell_type": "code",
   "execution_count": 176,
   "id": "45f4070f-aa6d-4775-aaff-0e86cc5d3709",
   "metadata": {},
   "outputs": [
    {
     "data": {
      "text/plain": [
       "0      neg\n",
       "1      neg\n",
       "2      neg\n",
       "3      neg\n",
       "4      neg\n",
       "      ... \n",
       "195    pos\n",
       "196    pos\n",
       "197    pos\n",
       "198    pos\n",
       "199    pos\n",
       "Name: classification, Length: 200, dtype: object"
      ]
     },
     "execution_count": 176,
     "metadata": {},
     "output_type": "execute_result"
    }
   ],
   "source": [
    "df['classification'].apply(lambda x: str(x).lower())"
   ]
  },
  {
   "cell_type": "code",
   "execution_count": 190,
   "id": "ff192a2a-e51a-495f-a638-d6c96630c07f",
   "metadata": {},
   "outputs": [
    {
     "data": {
      "text/plain": [
       "0"
      ]
     },
     "execution_count": 190,
     "metadata": {},
     "output_type": "execute_result"
    }
   ],
   "source": [
    "3//4"
   ]
  },
  {
   "cell_type": "code",
   "execution_count": 220,
   "id": "1e466f11-7ac3-4161-a638-7f35356e8dc4",
   "metadata": {},
   "outputs": [
    {
     "name": "stdout",
     "output_type": "stream",
     "text": [
      "1 4 5\n",
      "4 1 5\n",
      "false\n"
     ]
    }
   ],
   "source": [
    "k=5\n",
    "\n",
    "a=np.random.choice(range(20), 10, replace=False)\n",
    "\n",
    "dic = {k:i for i,k in enumerate(a)}\n",
    "\n",
    "for val in a:\n",
    "    b=k-val\n",
    "    if b in dic.keys():\n",
    "        print(val,b,k)\n",
    "print('false')"
   ]
  },
  {
   "cell_type": "code",
   "execution_count": 222,
   "id": "06092f33-447c-433b-a51a-03d843560e89",
   "metadata": {},
   "outputs": [],
   "source": [
    "from captum.attr import visualization"
   ]
  },
  {
   "cell_type": "code",
   "execution_count": 295,
   "id": "8dd28766-a6f1-47bf-b715-b764f57d59c8",
   "metadata": {},
   "outputs": [],
   "source": [
    "path = r\"C:\\Users\\amitx\\Documents\\Amit\\Projects_Python\\Hila_explainablity_transformer\\bert_models\\movies\\ours\\identifier_results_15.json\".replace(\"\\\\\",\"/\")"
   ]
  },
  {
   "cell_type": "code",
   "execution_count": 296,
   "id": "2db7d661-e472-4626-a881-e77875e2c760",
   "metadata": {},
   "outputs": [
    {
     "data": {
      "text/plain": [
       "'C:/Users/amitx/Documents/Amit/Projects_Python/Hila_explainablity_transformer/bert_models/movies/ours/identifier_results_15.json'"
      ]
     },
     "execution_count": 296,
     "metadata": {},
     "output_type": "execute_result"
    }
   ],
   "source": [
    "path"
   ]
  },
  {
   "cell_type": "code",
   "execution_count": 297,
   "id": "3727af9c-2e7a-4335-bcf3-17ccd4446063",
   "metadata": {},
   "outputs": [
    {
     "data": {
      "text/plain": [
       "'C:/Users/amitx/Documents/Amit/Projects_Python/Hila_explainablity_transformer/bert_models/movies/ours/identifier_results_15.json'"
      ]
     },
     "execution_count": 297,
     "metadata": {},
     "output_type": "execute_result"
    }
   ],
   "source": [
    "path"
   ]
  },
  {
   "cell_type": "code",
   "execution_count": 299,
   "id": "c329f268-4705-4daf-8ef0-59d86567da84",
   "metadata": {},
   "outputs": [],
   "source": [
    "df=pd.read_json(path,lines=True)"
   ]
  },
  {
   "cell_type": "code",
   "execution_count": 300,
   "id": "bdaf63df-fc78-4940-a20b-4ba0d7de8229",
   "metadata": {},
   "outputs": [
    {
     "data": {
      "text/html": [
       "<div>\n",
       "<style scoped>\n",
       "    .dataframe tbody tr th:only-of-type {\n",
       "        vertical-align: middle;\n",
       "    }\n",
       "\n",
       "    .dataframe tbody tr th {\n",
       "        vertical-align: top;\n",
       "    }\n",
       "\n",
       "    .dataframe thead th {\n",
       "        text-align: right;\n",
       "    }\n",
       "</style>\n",
       "<table border=\"1\" class=\"dataframe\">\n",
       "  <thead>\n",
       "    <tr style=\"text-align: right;\">\n",
       "      <th></th>\n",
       "    </tr>\n",
       "  </thead>\n",
       "  <tbody>\n",
       "  </tbody>\n",
       "</table>\n",
       "</div>"
      ],
      "text/plain": [
       "Empty DataFrame\n",
       "Columns: []\n",
       "Index: []"
      ]
     },
     "execution_count": 300,
     "metadata": {},
     "output_type": "execute_result"
    }
   ],
   "source": [
    "df"
   ]
  },
  {
   "cell_type": "code",
   "execution_count": 250,
   "id": "43379720-7877-482e-a5c8-d1784154ef42",
   "metadata": {},
   "outputs": [],
   "source": []
  },
  {
   "cell_type": "code",
   "execution_count": 5,
   "id": "6a2876c9-67e5-45c5-a985-3df67085ff67",
   "metadata": {},
   "outputs": [],
   "source": [
    "os.chdir('C:/Users/amitx/Documents/Amit/Projects_Python/explainablity-transformer')"
   ]
  },
  {
   "cell_type": "code",
   "execution_count": 261,
   "id": "d16ebffa-c9f3-49f0-8a83-0ffed4f9213c",
   "metadata": {},
   "outputs": [],
   "source": [
    "with open('./datasets/movies/docs/negR_900.txt') as f:\n",
    "    lines = f.read()"
   ]
  },
  {
   "cell_type": "code",
   "execution_count": null,
   "id": "e2d6e3ee-25f6-4565-abe3-4dd1f5870fc6",
   "metadata": {},
   "outputs": [
    {
     "data": {
      "text/plain": [
       "[{'docid': 'negR_900.txt',\n",
       "  'hard_rationale_predictions': [{'start_token': 322, 'end_token': 323},\n",
       "   {'start_token': 332, 'end_token': 333},\n",
       "   {'start_token': 353, 'end_token': 354},\n",
       "   {'start_token': 106, 'end_token': 107},\n",
       "   {'start_token': 329, 'end_token': 330}]}]"
      ]
     },
     "execution_count": 247,
     "metadata": {},
     "output_type": "execute_result"
    }
   ],
   "source": [
    "df['rationales'].iloc[0]"
   ]
  },
  {
   "cell_type": "code",
   "execution_count": 281,
   "id": "ea5e60d3-0fb0-4b87-9d63-f250c30dcbda",
   "metadata": {},
   "outputs": [],
   "source": [
    "from itertools import chain"
   ]
  },
  {
   "cell_type": "code",
   "execution_count": 283,
   "id": "25646c99-4fa5-4397-806c-a9002c584de4",
   "metadata": {},
   "outputs": [],
   "source": [
    "arr=chain.from_iterable(['ABC', 'DEF'])"
   ]
  },
  {
   "cell_type": "code",
   "execution_count": 10,
   "id": "8cb600ee-2db6-4a14-a1e3-e2b6a2588323",
   "metadata": {},
   "outputs": [
    {
     "ename": "ValueError",
     "evalue": "Expected object or value",
     "output_type": "error",
     "traceback": [
      "\u001b[1;31m---------------------------------------------------------------------------\u001b[0m",
      "\u001b[1;31mValueError\u001b[0m                                Traceback (most recent call last)",
      "\u001b[1;32m~\\AppData\\Local\\Temp\\ipykernel_5776\\8637503.py\u001b[0m in \u001b[0;36m<module>\u001b[1;34m\u001b[0m\n\u001b[1;32m----> 1\u001b[1;33m \u001b[0mpd\u001b[0m\u001b[1;33m.\u001b[0m\u001b[0mread_json\u001b[0m\u001b[1;33m(\u001b[0m\u001b[1;34mr'./identifier_results_5.json'\u001b[0m\u001b[1;33m)\u001b[0m\u001b[1;33m\u001b[0m\u001b[1;33m\u001b[0m\u001b[0m\n\u001b[0m",
      "\u001b[1;32m~\\anaconda3\\envs\\explainablity_nlp_transformer\\lib\\site-packages\\pandas\\util\\_decorators.py\u001b[0m in \u001b[0;36mwrapper\u001b[1;34m(*args, **kwargs)\u001b[0m\n\u001b[0;32m    197\u001b[0m                 \u001b[1;32melse\u001b[0m\u001b[1;33m:\u001b[0m\u001b[1;33m\u001b[0m\u001b[1;33m\u001b[0m\u001b[0m\n\u001b[0;32m    198\u001b[0m                     \u001b[0mkwargs\u001b[0m\u001b[1;33m[\u001b[0m\u001b[0mnew_arg_name\u001b[0m\u001b[1;33m]\u001b[0m \u001b[1;33m=\u001b[0m \u001b[0mnew_arg_value\u001b[0m\u001b[1;33m\u001b[0m\u001b[1;33m\u001b[0m\u001b[0m\n\u001b[1;32m--> 199\u001b[1;33m             \u001b[1;32mreturn\u001b[0m \u001b[0mfunc\u001b[0m\u001b[1;33m(\u001b[0m\u001b[1;33m*\u001b[0m\u001b[0margs\u001b[0m\u001b[1;33m,\u001b[0m \u001b[1;33m**\u001b[0m\u001b[0mkwargs\u001b[0m\u001b[1;33m)\u001b[0m\u001b[1;33m\u001b[0m\u001b[1;33m\u001b[0m\u001b[0m\n\u001b[0m\u001b[0;32m    200\u001b[0m \u001b[1;33m\u001b[0m\u001b[0m\n\u001b[0;32m    201\u001b[0m         \u001b[1;32mreturn\u001b[0m \u001b[0mcast\u001b[0m\u001b[1;33m(\u001b[0m\u001b[0mF\u001b[0m\u001b[1;33m,\u001b[0m \u001b[0mwrapper\u001b[0m\u001b[1;33m)\u001b[0m\u001b[1;33m\u001b[0m\u001b[1;33m\u001b[0m\u001b[0m\n",
      "\u001b[1;32m~\\anaconda3\\envs\\explainablity_nlp_transformer\\lib\\site-packages\\pandas\\util\\_decorators.py\u001b[0m in \u001b[0;36mwrapper\u001b[1;34m(*args, **kwargs)\u001b[0m\n\u001b[0;32m    294\u001b[0m                 )\n\u001b[0;32m    295\u001b[0m                 \u001b[0mwarnings\u001b[0m\u001b[1;33m.\u001b[0m\u001b[0mwarn\u001b[0m\u001b[1;33m(\u001b[0m\u001b[0mmsg\u001b[0m\u001b[1;33m,\u001b[0m \u001b[0mFutureWarning\u001b[0m\u001b[1;33m,\u001b[0m \u001b[0mstacklevel\u001b[0m\u001b[1;33m=\u001b[0m\u001b[0mstacklevel\u001b[0m\u001b[1;33m)\u001b[0m\u001b[1;33m\u001b[0m\u001b[1;33m\u001b[0m\u001b[0m\n\u001b[1;32m--> 296\u001b[1;33m             \u001b[1;32mreturn\u001b[0m \u001b[0mfunc\u001b[0m\u001b[1;33m(\u001b[0m\u001b[1;33m*\u001b[0m\u001b[0margs\u001b[0m\u001b[1;33m,\u001b[0m \u001b[1;33m**\u001b[0m\u001b[0mkwargs\u001b[0m\u001b[1;33m)\u001b[0m\u001b[1;33m\u001b[0m\u001b[1;33m\u001b[0m\u001b[0m\n\u001b[0m\u001b[0;32m    297\u001b[0m \u001b[1;33m\u001b[0m\u001b[0m\n\u001b[0;32m    298\u001b[0m         \u001b[1;32mreturn\u001b[0m \u001b[0mwrapper\u001b[0m\u001b[1;33m\u001b[0m\u001b[1;33m\u001b[0m\u001b[0m\n",
      "\u001b[1;32m~\\anaconda3\\envs\\explainablity_nlp_transformer\\lib\\site-packages\\pandas\\io\\json\\_json.py\u001b[0m in \u001b[0;36mread_json\u001b[1;34m(path_or_buf, orient, typ, dtype, convert_axes, convert_dates, keep_default_dates, numpy, precise_float, date_unit, encoding, lines, chunksize, compression, nrows)\u001b[0m\n\u001b[0;32m    616\u001b[0m         \u001b[1;32mreturn\u001b[0m \u001b[0mjson_reader\u001b[0m\u001b[1;33m\u001b[0m\u001b[1;33m\u001b[0m\u001b[0m\n\u001b[0;32m    617\u001b[0m \u001b[1;33m\u001b[0m\u001b[0m\n\u001b[1;32m--> 618\u001b[1;33m     \u001b[0mresult\u001b[0m \u001b[1;33m=\u001b[0m \u001b[0mjson_reader\u001b[0m\u001b[1;33m.\u001b[0m\u001b[0mread\u001b[0m\u001b[1;33m(\u001b[0m\u001b[1;33m)\u001b[0m\u001b[1;33m\u001b[0m\u001b[1;33m\u001b[0m\u001b[0m\n\u001b[0m\u001b[0;32m    619\u001b[0m     \u001b[1;32mif\u001b[0m \u001b[0mshould_close\u001b[0m\u001b[1;33m:\u001b[0m\u001b[1;33m\u001b[0m\u001b[1;33m\u001b[0m\u001b[0m\n\u001b[0;32m    620\u001b[0m         \u001b[0mfilepath_or_buffer\u001b[0m\u001b[1;33m.\u001b[0m\u001b[0mclose\u001b[0m\u001b[1;33m(\u001b[0m\u001b[1;33m)\u001b[0m\u001b[1;33m\u001b[0m\u001b[1;33m\u001b[0m\u001b[0m\n",
      "\u001b[1;32m~\\anaconda3\\envs\\explainablity_nlp_transformer\\lib\\site-packages\\pandas\\io\\json\\_json.py\u001b[0m in \u001b[0;36mread\u001b[1;34m(self)\u001b[0m\n\u001b[0;32m    753\u001b[0m                 \u001b[0mobj\u001b[0m \u001b[1;33m=\u001b[0m \u001b[0mself\u001b[0m\u001b[1;33m.\u001b[0m\u001b[0m_get_object_parser\u001b[0m\u001b[1;33m(\u001b[0m\u001b[0mself\u001b[0m\u001b[1;33m.\u001b[0m\u001b[0m_combine_lines\u001b[0m\u001b[1;33m(\u001b[0m\u001b[0mdata\u001b[0m\u001b[1;33m)\u001b[0m\u001b[1;33m)\u001b[0m\u001b[1;33m\u001b[0m\u001b[1;33m\u001b[0m\u001b[0m\n\u001b[0;32m    754\u001b[0m         \u001b[1;32melse\u001b[0m\u001b[1;33m:\u001b[0m\u001b[1;33m\u001b[0m\u001b[1;33m\u001b[0m\u001b[0m\n\u001b[1;32m--> 755\u001b[1;33m             \u001b[0mobj\u001b[0m \u001b[1;33m=\u001b[0m \u001b[0mself\u001b[0m\u001b[1;33m.\u001b[0m\u001b[0m_get_object_parser\u001b[0m\u001b[1;33m(\u001b[0m\u001b[0mself\u001b[0m\u001b[1;33m.\u001b[0m\u001b[0mdata\u001b[0m\u001b[1;33m)\u001b[0m\u001b[1;33m\u001b[0m\u001b[1;33m\u001b[0m\u001b[0m\n\u001b[0m\u001b[0;32m    756\u001b[0m         \u001b[0mself\u001b[0m\u001b[1;33m.\u001b[0m\u001b[0mclose\u001b[0m\u001b[1;33m(\u001b[0m\u001b[1;33m)\u001b[0m\u001b[1;33m\u001b[0m\u001b[1;33m\u001b[0m\u001b[0m\n\u001b[0;32m    757\u001b[0m         \u001b[1;32mreturn\u001b[0m \u001b[0mobj\u001b[0m\u001b[1;33m\u001b[0m\u001b[1;33m\u001b[0m\u001b[0m\n",
      "\u001b[1;32m~\\anaconda3\\envs\\explainablity_nlp_transformer\\lib\\site-packages\\pandas\\io\\json\\_json.py\u001b[0m in \u001b[0;36m_get_object_parser\u001b[1;34m(self, json)\u001b[0m\n\u001b[0;32m    775\u001b[0m         \u001b[0mobj\u001b[0m \u001b[1;33m=\u001b[0m \u001b[1;32mNone\u001b[0m\u001b[1;33m\u001b[0m\u001b[1;33m\u001b[0m\u001b[0m\n\u001b[0;32m    776\u001b[0m         \u001b[1;32mif\u001b[0m \u001b[0mtyp\u001b[0m \u001b[1;33m==\u001b[0m \u001b[1;34m\"frame\"\u001b[0m\u001b[1;33m:\u001b[0m\u001b[1;33m\u001b[0m\u001b[1;33m\u001b[0m\u001b[0m\n\u001b[1;32m--> 777\u001b[1;33m             \u001b[0mobj\u001b[0m \u001b[1;33m=\u001b[0m \u001b[0mFrameParser\u001b[0m\u001b[1;33m(\u001b[0m\u001b[0mjson\u001b[0m\u001b[1;33m,\u001b[0m \u001b[1;33m**\u001b[0m\u001b[0mkwargs\u001b[0m\u001b[1;33m)\u001b[0m\u001b[1;33m.\u001b[0m\u001b[0mparse\u001b[0m\u001b[1;33m(\u001b[0m\u001b[1;33m)\u001b[0m\u001b[1;33m\u001b[0m\u001b[1;33m\u001b[0m\u001b[0m\n\u001b[0m\u001b[0;32m    778\u001b[0m \u001b[1;33m\u001b[0m\u001b[0m\n\u001b[0;32m    779\u001b[0m         \u001b[1;32mif\u001b[0m \u001b[0mtyp\u001b[0m \u001b[1;33m==\u001b[0m \u001b[1;34m\"series\"\u001b[0m \u001b[1;32mor\u001b[0m \u001b[0mobj\u001b[0m \u001b[1;32mis\u001b[0m \u001b[1;32mNone\u001b[0m\u001b[1;33m:\u001b[0m\u001b[1;33m\u001b[0m\u001b[1;33m\u001b[0m\u001b[0m\n",
      "\u001b[1;32m~\\anaconda3\\envs\\explainablity_nlp_transformer\\lib\\site-packages\\pandas\\io\\json\\_json.py\u001b[0m in \u001b[0;36mparse\u001b[1;34m(self)\u001b[0m\n\u001b[0;32m    884\u001b[0m \u001b[1;33m\u001b[0m\u001b[0m\n\u001b[0;32m    885\u001b[0m         \u001b[1;32melse\u001b[0m\u001b[1;33m:\u001b[0m\u001b[1;33m\u001b[0m\u001b[1;33m\u001b[0m\u001b[0m\n\u001b[1;32m--> 886\u001b[1;33m             \u001b[0mself\u001b[0m\u001b[1;33m.\u001b[0m\u001b[0m_parse_no_numpy\u001b[0m\u001b[1;33m(\u001b[0m\u001b[1;33m)\u001b[0m\u001b[1;33m\u001b[0m\u001b[1;33m\u001b[0m\u001b[0m\n\u001b[0m\u001b[0;32m    887\u001b[0m \u001b[1;33m\u001b[0m\u001b[0m\n\u001b[0;32m    888\u001b[0m         \u001b[1;32mif\u001b[0m \u001b[0mself\u001b[0m\u001b[1;33m.\u001b[0m\u001b[0mobj\u001b[0m \u001b[1;32mis\u001b[0m \u001b[1;32mNone\u001b[0m\u001b[1;33m:\u001b[0m\u001b[1;33m\u001b[0m\u001b[1;33m\u001b[0m\u001b[0m\n",
      "\u001b[1;32m~\\anaconda3\\envs\\explainablity_nlp_transformer\\lib\\site-packages\\pandas\\io\\json\\_json.py\u001b[0m in \u001b[0;36m_parse_no_numpy\u001b[1;34m(self)\u001b[0m\n\u001b[0;32m   1117\u001b[0m         \u001b[1;32mif\u001b[0m \u001b[0morient\u001b[0m \u001b[1;33m==\u001b[0m \u001b[1;34m\"columns\"\u001b[0m\u001b[1;33m:\u001b[0m\u001b[1;33m\u001b[0m\u001b[1;33m\u001b[0m\u001b[0m\n\u001b[0;32m   1118\u001b[0m             self.obj = DataFrame(\n\u001b[1;32m-> 1119\u001b[1;33m                 \u001b[0mloads\u001b[0m\u001b[1;33m(\u001b[0m\u001b[0mjson\u001b[0m\u001b[1;33m,\u001b[0m \u001b[0mprecise_float\u001b[0m\u001b[1;33m=\u001b[0m\u001b[0mself\u001b[0m\u001b[1;33m.\u001b[0m\u001b[0mprecise_float\u001b[0m\u001b[1;33m)\u001b[0m\u001b[1;33m,\u001b[0m \u001b[0mdtype\u001b[0m\u001b[1;33m=\u001b[0m\u001b[1;32mNone\u001b[0m\u001b[1;33m\u001b[0m\u001b[1;33m\u001b[0m\u001b[0m\n\u001b[0m\u001b[0;32m   1120\u001b[0m             )\n\u001b[0;32m   1121\u001b[0m         \u001b[1;32melif\u001b[0m \u001b[0morient\u001b[0m \u001b[1;33m==\u001b[0m \u001b[1;34m\"split\"\u001b[0m\u001b[1;33m:\u001b[0m\u001b[1;33m\u001b[0m\u001b[1;33m\u001b[0m\u001b[0m\n",
      "\u001b[1;31mValueError\u001b[0m: Expected object or value"
     ]
    }
   ],
   "source": [
    "pd.read_json(r'./identifier_results_5.json')"
   ]
  },
  {
   "cell_type": "code",
   "execution_count": null,
   "id": "4994d16d-20cf-4da7-b96e-e935275dc639",
   "metadata": {},
   "outputs": [],
   "source": []
  }
 ],
 "metadata": {
  "kernelspec": {
   "display_name": "explainablity_nlp_transformer",
   "language": "python",
   "name": "explainablity_nlp_transformer"
  },
  "language_info": {
   "codemirror_mode": {
    "name": "ipython",
    "version": 3
   },
   "file_extension": ".py",
   "mimetype": "text/x-python",
   "name": "python",
   "nbconvert_exporter": "python",
   "pygments_lexer": "ipython3",
   "version": "3.7.11"
  }
 },
 "nbformat": 4,
 "nbformat_minor": 5
}
