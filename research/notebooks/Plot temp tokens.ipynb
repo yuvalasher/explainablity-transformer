{
 "cells": [
  {
   "cell_type": "code",
   "execution_count": null,
   "metadata": {},
   "outputs": [],
   "source": [
    "import seaborn as sns\n",
    "import matplotlib.pyplot as plt\n",
    "\n",
    "temps_path = r\"C:\\Users\\asher\\OneDrive\\Documents\\Data Science Degree\\Tesis\\Explainability NLP\\explainablity-transformer\\research\\plots\\vis_mul_temp_softmax_lr0_003+l1_1000+kl_loss_0+entropy_loss_100+pred_loss_10\\00000009\\objects\\temps.pkl\"\n",
    "temps = load_obj(temps_path)\n",
    "temp = temps[170]\n",
    "temp = temp.detach().numpy()\n",
    "\n",
    "for i in range(12):\n",
    "    sns.distplot(temp[-1][i][1:], norm_hist=False)\n",
    "    plt.show()"
   ]
  }
 ],
 "metadata": {
  "kernelspec": {
   "display_name": "explainability",
   "language": "python",
   "name": "explainability"
  },
  "language_info": {
   "codemirror_mode": {
    "name": "ipython",
    "version": 3
   },
   "file_extension": ".py",
   "mimetype": "text/x-python",
   "name": "python",
   "nbconvert_exporter": "python",
   "pygments_lexer": "ipython3",
   "version": "3.7.0"
  }
 },
 "nbformat": 4,
 "nbformat_minor": 2
}
