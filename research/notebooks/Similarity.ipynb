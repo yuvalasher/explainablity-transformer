{
 "cells": [
  {
   "cell_type": "code",
   "execution_count": 36,
   "metadata": {},
   "outputs": [],
   "source": [
    "import numpy as np\n",
    "import torch\n",
    "from torch import Tensor\n",
    "from torch import nn\n",
    "from torch.functional import F\n",
    "from PIL import Image\n",
    "import cv2\n",
    "import matplotlib.pyplot as plt\n",
    "import os\n",
    "from typing import Dict, Tuple, Union, NewType, List, Optional, Any\n",
    "from pathlib import Path, WindowsPath\n",
    "import warnings\n",
    "import pickle\n",
    "warnings.filterwarnings(\"ignore\")\n",
    "import seaborn as sns\n",
    "\n",
    "def load_obj(path: str) -> Any:\n",
    "    with open(path, 'rb') as f:\n",
    "        return pickle.load(f)\n",
    "    \n",
    "\n",
    "def show_cam_on_image(img, mask):\n",
    "    heatmap = cv2.applyColorMap(np.uint8(255 * mask), cv2.COLORMAP_JET)\n",
    "    heatmap = np.float32(heatmap) / 255\n",
    "    cam = heatmap + np.float32(img)\n",
    "    cam = cam / np.max(cam)\n",
    "    return cam\n",
    "\n",
    "def visu(original_image, transformer_attribution, file_name: str):\n",
    "    transformer_attribution = transformer_attribution.reshape(1, 1, 14, 14)\n",
    "    transformer_attribution = torch.nn.functional.interpolate(transformer_attribution, scale_factor=16, mode='bilinear')\n",
    "    transformer_attribution = transformer_attribution.reshape(224, 224).data.cpu().numpy()\n",
    "    transformer_attribution = (transformer_attribution - transformer_attribution.min()) / (\n",
    "            transformer_attribution.max() - transformer_attribution.min())\n",
    "    image_transformer_attribution = original_image.permute(1, 2, 0).data.cpu().numpy()\n",
    "    image_transformer_attribution = (image_transformer_attribution - image_transformer_attribution.min()) / (\n",
    "            image_transformer_attribution.max() - image_transformer_attribution.min())\n",
    "    vis = show_cam_on_image(image_transformer_attribution, transformer_attribution)\n",
    "    vis = np.uint8(255 * vis)\n",
    "    vis = cv2.cvtColor(np.array(vis), cv2.COLOR_RGB2BGR)\n",
    "    plt.imsave(fname=Path('plots', f'{file_name}.png'),\n",
    "               arr=vis,\n",
    "               format='png')\n",
    "    \n",
    "from torchvision import transforms\n",
    "IMAGENET_STANDARD_MEAN = [0.5, 0.5, 0.5]\n",
    "IMAGENET_STANDARD_STD = [0.5, 0.5, 0.5]\n",
    "normalize = transforms.Normalize(mean=IMAGENET_STANDARD_MEAN, std=IMAGENET_STANDARD_STD)\n",
    "image_transformations = transforms.Compose([\n",
    "    transforms.Resize((224,224)),\n",
    "    transforms.ToTensor(),\n",
    "    normalize,\n",
    "])"
   ]
  },
  {
   "cell_type": "code",
   "execution_count": 3,
   "metadata": {},
   "outputs": [
    {
     "name": "stderr",
     "output_type": "stream",
     "text": [
      "C:\\Users\\asher\\Anaconda3\\envs\\explainability\\lib\\site-packages\\torch\\nn\\functional.py:3613: UserWarning: Default upsampling behavior when mode=bilinear is changed to align_corners=False since 0.4.0. Please specify align_corners=True if the old behavior is desired. See the documentation of nn.Upsample for details.\n",
      "  \"See the documentation of nn.Upsample for details.\".format(mode)\n"
     ]
    }
   ],
   "source": [
    "tokens_mask_path = r\"C:\\Users\\asher\\OneDrive\\Documents\\Data Science Degree\\Tesis\\Explainability NLP\\explainablity-transformer\\research\\plots\\verify_vis_mul_temp_softmax_lr0_003+l1_0+kl_loss_0+entropy_loss_1000+pred_loss_10\\0000000001\\objects\\tokens_mask.pkl\"\n",
    "mask = load_obj(tokens_mask_path)[-1]\n",
    "image = Image.open(r\"C:\\Users\\asher\\OneDrive\\Documents\\Data Science Degree\\Tesis\\Explainability NLP\\explainablity-transformer\\research\\plots\\vis_mul_temp_softmax_lr0_003+l1_1000+kl_loss_0+entropy_loss_100+pred_loss_10\\0000000001\\224x224.JPEG\")\n",
    "image = image_transformations(image)\n",
    "visu(image, mask.median(dim=0)[0], 'test')"
   ]
  },
  {
   "cell_type": "code",
   "execution_count": 4,
   "metadata": {},
   "outputs": [],
   "source": [
    "image_bull_PIL = Image.open(r\"C:\\Users\\asher\\OneDrive\\Documents\\Data Science Degree\\Tesis\\Explainability NLP\\explainablity-transformer\\research\\notebooks\\Bullmastiff-standing-in-a-field.jpg\")\n",
    "image_bull = image_transformations(image_bull_PIL)"
   ]
  },
  {
   "cell_type": "code",
   "execution_count": 5,
   "metadata": {},
   "outputs": [
    {
     "data": {
      "text/plain": [
       "tensor([[[ 0.7961,  0.7961,  0.7961,  ...,  0.7569,  0.7569,  0.7412],\n",
       "         [ 0.7961,  0.7961,  0.7961,  ...,  0.7725,  0.7725,  0.7569],\n",
       "         [ 0.7961,  0.7961,  0.7961,  ...,  0.7725,  0.7804,  0.7569],\n",
       "         ...,\n",
       "         [ 0.0353,  0.0745,  0.1216,  ...,  0.3412,  0.2784,  0.1529],\n",
       "         [ 0.0745, -0.0118,  0.1529,  ...,  0.3098,  0.2471,  0.1608],\n",
       "         [ 0.1294,  0.0039,  0.1686,  ...,  0.3098,  0.2314,  0.1843]],\n",
       "\n",
       "        [[ 0.7882,  0.7882,  0.7882,  ...,  0.7647,  0.7647,  0.7490],\n",
       "         [ 0.7882,  0.7882,  0.7882,  ...,  0.7804,  0.7804,  0.7647],\n",
       "         [ 0.7882,  0.7882,  0.7882,  ...,  0.7804,  0.7882,  0.7647],\n",
       "         ...,\n",
       "         [ 0.0824,  0.1686,  0.1686,  ...,  0.2157,  0.2000,  0.1373],\n",
       "         [ 0.1216,  0.0824,  0.1922,  ...,  0.1843,  0.1922,  0.1686],\n",
       "         [ 0.1765,  0.0980,  0.2078,  ...,  0.1922,  0.1843,  0.2000]],\n",
       "\n",
       "        [[ 0.8353,  0.8353,  0.8353,  ...,  0.8039,  0.8039,  0.7882],\n",
       "         [ 0.8353,  0.8353,  0.8353,  ...,  0.8196,  0.8196,  0.8039],\n",
       "         [ 0.8353,  0.8353,  0.8353,  ...,  0.8196,  0.8275,  0.8039],\n",
       "         ...,\n",
       "         [-0.5373, -0.4824, -0.4196,  ..., -0.1765, -0.2000, -0.2863],\n",
       "         [-0.4980, -0.5608, -0.3961,  ..., -0.2000, -0.2157, -0.2706],\n",
       "         [-0.4196, -0.5216, -0.3647,  ..., -0.2000, -0.2314, -0.2471]]])"
      ]
     },
     "execution_count": 5,
     "metadata": {},
     "output_type": "execute_result"
    }
   ],
   "source": [
    "image_bull"
   ]
  },
  {
   "cell_type": "code",
   "execution_count": 6,
   "metadata": {},
   "outputs": [],
   "source": [
    "bull_cls = load_obj(r\"C:\\Users\\asher\\OneDrive\\Documents\\Data Science Degree\\Tesis\\Explainability NLP\\explainablity-transformer\\research\\notebooks\\bull_cls_attentions_probs.pkl\")"
   ]
  },
  {
   "cell_type": "code",
   "execution_count": 7,
   "metadata": {},
   "outputs": [
    {
     "data": {
      "text/plain": [
       "torch.Size([12, 196])"
      ]
     },
     "execution_count": 7,
     "metadata": {},
     "output_type": "execute_result"
    }
   ],
   "source": [
    "bull_cls.shape"
   ]
  },
  {
   "cell_type": "code",
   "execution_count": 8,
   "metadata": {},
   "outputs": [
    {
     "data": {
      "text/plain": [
       "torch.Size([12, 196])"
      ]
     },
     "execution_count": 8,
     "metadata": {},
     "output_type": "execute_result"
    }
   ],
   "source": [
    "mask.shape"
   ]
  },
  {
   "cell_type": "code",
   "execution_count": 9,
   "metadata": {},
   "outputs": [
    {
     "data": {
      "text/plain": [
       "torch.Size([12, 196])"
      ]
     },
     "execution_count": 9,
     "metadata": {},
     "output_type": "execute_result"
    }
   ],
   "source": [
    "(mask * bull_cls).shape"
   ]
  },
  {
   "cell_type": "code",
   "execution_count": 10,
   "metadata": {},
   "outputs": [
    {
     "data": {
      "text/plain": [
       "tensor([5.1167e-06, 1.3258e-03, 1.5191e-03, 2.2338e-03, 2.5690e-03, 1.4327e-04,\n",
       "        4.4748e-03, 1.8667e-03, 3.7485e-03, 4.0711e-03, 4.1734e-03, 1.3381e-04,\n",
       "        4.2138e-06, 2.2356e-04, 2.7405e-05, 1.0963e-02, 1.9028e-03, 9.1886e-04,\n",
       "        2.6397e-03, 2.8667e-04, 3.4716e-03, 6.6686e-03, 3.5860e-03, 8.5304e-03,\n",
       "        4.1299e-03, 5.8286e-04, 2.2540e-05, 3.8895e-05, 9.6280e-03, 1.2460e-02,\n",
       "        1.0731e-02, 1.2023e-04, 4.6251e-05, 9.1607e-06, 6.6617e-05, 1.2290e-02,\n",
       "        4.5248e-03, 7.2795e-03, 4.4460e-03, 8.3014e-03, 1.4466e-03, 6.7513e-05,\n",
       "        2.0156e-03, 4.5425e-06, 1.2204e-02, 5.3833e-05, 4.0476e-04, 5.0963e-05,\n",
       "        7.6130e-03, 9.3336e-03, 2.8558e-03, 5.3820e-03, 6.4297e-03, 5.9338e-03,\n",
       "        3.2779e-03, 3.9443e-05, 1.1195e-03, 1.6390e-03, 3.7824e-05, 8.7411e-05,\n",
       "        3.7352e-04, 1.4837e-04, 5.3578e-03, 8.2363e-03, 6.2692e-03, 6.0882e-03,\n",
       "        7.1501e-03, 1.0302e-02, 3.3513e-03, 2.0607e-04, 3.3976e-04, 2.3810e-03,\n",
       "        4.1092e-06, 2.6392e-04, 1.6034e-03, 4.3571e-04, 3.2189e-03, 1.1544e-02,\n",
       "        1.1084e-02, 9.1755e-03, 4.1915e-03, 3.1164e-03, 1.4960e-03, 4.9696e-04,\n",
       "        7.6528e-04, 1.5045e-03, 4.9976e-04, 2.9940e-04, 5.1814e-04, 1.2943e-04,\n",
       "        1.1131e-04, 7.7036e-03, 1.1024e-02, 4.0100e-03, 4.2357e-03, 4.1634e-03,\n",
       "        1.9484e-03, 1.9088e-03, 6.0353e-05, 2.1020e-05, 1.3744e-04, 1.2550e-03,\n",
       "        2.3719e-03, 2.6231e-04, 4.4624e-03, 1.9348e-03, 7.7217e-03, 7.7317e-04,\n",
       "        5.0203e-03, 6.5771e-03, 2.7435e-03, 1.0455e-03, 2.1062e-03, 6.9003e-07,\n",
       "        9.4553e-05, 2.2419e-03, 1.7317e-03, 8.5134e-05, 1.5451e-03, 4.7415e-03,\n",
       "        4.7438e-03, 6.3814e-04, 5.4514e-03, 6.1956e-03, 2.1599e-03, 2.1531e-03,\n",
       "        1.2343e-03, 3.7279e-05, 9.6983e-05, 4.5332e-04, 1.2179e-04, 3.7399e-05,\n",
       "        3.1868e-03, 4.1286e-03, 3.6214e-03, 4.4388e-03, 5.4545e-03, 6.2501e-03,\n",
       "        2.0208e-03, 1.3511e-03, 2.0857e-03, 5.7437e-05, 2.3950e-04, 1.1502e-04,\n",
       "        1.3527e-03, 1.0806e-05, 1.3374e-04, 3.6537e-03, 5.8769e-04, 6.2097e-04,\n",
       "        5.7771e-03, 1.7330e-03, 1.5628e-03, 1.6553e-06, 2.3295e-03, 6.2616e-06,\n",
       "        1.5210e-04, 5.8156e-04, 2.9541e-04, 6.7632e-05, 1.8729e-04, 6.3062e-04,\n",
       "        2.7057e-04, 2.5779e-03, 4.7196e-03, 5.8731e-03, 2.0710e-03, 2.5637e-03,\n",
       "        2.2277e-06, 2.9163e-05, 1.3613e-04, 5.6890e-04, 9.6096e-04, 4.5696e-05,\n",
       "        3.2966e-04, 5.4558e-04, 7.5288e-03, 2.0454e-03, 5.6373e-03, 6.4843e-05,\n",
       "        2.0052e-03, 3.8096e-04, 4.9314e-06, 3.3801e-05, 1.3576e-03, 1.1716e-04,\n",
       "        2.3669e-05, 7.8562e-05, 1.6621e-04, 2.1248e-05, 2.3486e-03, 3.6272e-03,\n",
       "        4.5207e-03, 3.4651e-04, 2.6800e-03, 2.1276e-03],\n",
       "       grad_fn=<MedianBackward1>)"
      ]
     },
     "execution_count": 10,
     "metadata": {},
     "output_type": "execute_result"
    }
   ],
   "source": [
    "mask.median(dim=0)[0]"
   ]
  },
  {
   "cell_type": "code",
   "execution_count": 11,
   "metadata": {},
   "outputs": [
    {
     "data": {
      "text/plain": [
       "tensor([1.4372e-08, 1.6036e-05, 1.6599e-05, 1.5662e-05, 2.1783e-07, 3.1657e-07,\n",
       "        8.0065e-05, 4.0315e-05, 9.3275e-07, 1.2967e-04, 4.4635e-07, 9.0479e-09,\n",
       "        1.1526e-09, 1.1637e-08, 6.0651e-09, 3.4227e-04, 8.0598e-07, 1.3921e-07,\n",
       "        5.2763e-07, 6.7266e-07, 7.0283e-06, 2.8292e-07, 5.2764e-07, 6.1464e-07,\n",
       "        3.1010e-07, 3.9373e-08, 3.9110e-09, 7.9542e-09, 8.9594e-07, 9.7303e-07,\n",
       "        1.1614e-05, 9.9418e-08, 1.7761e-07, 3.7794e-08, 5.1459e-07, 8.4035e-06,\n",
       "        5.1419e-07, 2.8589e-04, 2.7177e-06, 5.1488e-04, 2.6514e-07, 2.3290e-07,\n",
       "        5.7418e-08, 8.8875e-10, 1.0182e-05, 1.1630e-07, 1.5020e-06, 3.8147e-07,\n",
       "        3.7192e-05, 8.0781e-06, 3.3798e-06, 1.2249e-06, 1.2469e-06, 1.8657e-05,\n",
       "        3.7813e-07, 3.7513e-08, 4.4708e-08, 4.6884e-08, 5.0430e-08, 2.4095e-07,\n",
       "        8.2264e-07, 4.1638e-07, 8.1182e-06, 2.0013e-05, 1.3590e-05, 6.2216e-06,\n",
       "        2.5300e-06, 1.3423e-06, 3.3746e-07, 1.5059e-07, 4.9871e-08, 1.3853e-07,\n",
       "        1.7934e-08, 9.2481e-07, 9.2486e-07, 1.0447e-06, 1.1903e-06, 2.7221e-05,\n",
       "        9.8815e-06, 1.4912e-05, 1.7568e-06, 5.1337e-05, 1.2859e-07, 6.6817e-08,\n",
       "        9.0001e-08, 1.5205e-07, 9.0076e-08, 8.7513e-07, 6.8292e-07, 1.0097e-07,\n",
       "        7.5265e-07, 1.5532e-05, 1.2855e-05, 1.2628e-05, 5.2419e-05, 2.4230e-07,\n",
       "        2.1702e-07, 4.7272e-07, 4.5598e-10, 7.6755e-10, 2.7499e-07, 4.9148e-06,\n",
       "        6.9204e-07, 1.1228e-06, 2.1569e-05, 2.1604e-06, 1.3095e-05, 7.6979e-08,\n",
       "        9.7328e-07, 1.5007e-06, 1.3267e-07, 7.0377e-07, 7.4758e-08, 1.1255e-10,\n",
       "        2.4324e-07, 5.4932e-07, 9.5039e-08, 2.8581e-07, 1.3726e-06, 6.5657e-06,\n",
       "        4.8337e-06, 4.9233e-07, 8.8387e-07, 1.1041e-06, 4.8238e-07, 7.9200e-07,\n",
       "        3.5605e-07, 2.8926e-08, 3.0273e-07, 2.2039e-06, 3.9743e-07, 2.0017e-08,\n",
       "        5.9181e-06, 2.5622e-06, 1.4169e-06, 1.5529e-06, 3.4041e-06, 3.9248e-06,\n",
       "        1.0334e-06, 1.0518e-06, 6.9585e-07, 7.8757e-08, 2.6887e-07, 1.8551e-07,\n",
       "        1.9889e-07, 6.9213e-09, 5.7454e-08, 1.0924e-07, 3.4859e-07, 8.3087e-07,\n",
       "        6.4706e-07, 1.2298e-06, 2.4709e-06, 1.7388e-08, 1.4960e-07, 6.3332e-09,\n",
       "        8.0826e-08, 5.1635e-07, 1.1616e-06, 2.0392e-08, 2.5061e-08, 7.7342e-08,\n",
       "        4.4088e-08, 1.5529e-06, 2.5240e-06, 3.7531e-06, 1.0885e-06, 5.1103e-06,\n",
       "        8.8489e-09, 6.8257e-08, 1.0013e-07, 3.5304e-07, 1.2100e-05, 2.2083e-06,\n",
       "        1.1450e-08, 2.1586e-07, 4.1154e-06, 2.9496e-05, 3.5169e-06, 1.5339e-07,\n",
       "        1.2502e-06, 2.1892e-06, 2.2157e-08, 1.4584e-08, 1.7972e-06, 6.2588e-08,\n",
       "        4.9626e-08, 7.0751e-08, 1.0696e-08, 7.6210e-09, 6.4334e-07, 2.1329e-06,\n",
       "        1.1173e-04, 6.2485e-08, 8.6608e-07, 3.0403e-07],\n",
       "       grad_fn=<MedianBackward1>)"
      ]
     },
     "execution_count": 11,
     "metadata": {},
     "output_type": "execute_result"
    }
   ],
   "source": [
    "(mask * bull_cls).median(dim=0)[0]"
   ]
  },
  {
   "cell_type": "code",
   "execution_count": 12,
   "metadata": {},
   "outputs": [
    {
     "data": {
      "text/plain": [
       "tensor([1.2109e-08, 3.4186e-05, 3.9964e-05, 6.5368e-05, 9.9487e-07, 2.7807e-07,\n",
       "        1.1461e-04, 6.1947e-05, 5.2614e-06, 1.2163e-04, 2.6738e-06, 5.2555e-09,\n",
       "        5.2254e-10, 1.4303e-08, 4.7297e-09, 2.9033e-04, 6.0420e-06, 1.4140e-06,\n",
       "        1.0445e-05, 1.3935e-06, 1.3066e-05, 4.6741e-07, 3.6963e-07, 9.2100e-07,\n",
       "        4.7377e-07, 6.0449e-08, 3.0769e-09, 6.2539e-09, 1.2075e-06, 1.0388e-06,\n",
       "        2.5761e-05, 3.2651e-07, 2.9874e-07, 7.6245e-08, 2.5835e-07, 4.0152e-05,\n",
       "        5.5353e-07, 2.3322e-04, 7.2617e-06, 2.8893e-04, 2.5902e-07, 1.7892e-07,\n",
       "        8.1941e-08, 3.8999e-10, 3.4390e-05, 2.4769e-07, 2.2271e-06, 3.8104e-07,\n",
       "        5.5321e-05, 2.7757e-05, 6.8167e-06, 2.2295e-06, 1.0294e-06, 2.0864e-05,\n",
       "        5.5624e-07, 6.1068e-09, 5.7373e-08, 1.3999e-07, 1.7296e-07, 3.4796e-07,\n",
       "        2.2834e-06, 6.2970e-07, 3.4723e-05, 3.4721e-05, 8.8647e-06, 4.2083e-06,\n",
       "        2.2287e-06, 8.9208e-07, 5.2754e-07, 6.0750e-07, 2.3465e-08, 1.5674e-06,\n",
       "        2.0245e-08, 1.4450e-06, 3.8321e-06, 1.1183e-06, 6.3804e-06, 7.2429e-05,\n",
       "        2.8310e-05, 1.8281e-05, 7.1117e-06, 1.1420e-04, 4.5067e-07, 5.7743e-08,\n",
       "        1.7882e-06, 4.2434e-06, 2.9187e-06, 1.9678e-06, 1.5466e-06, 9.6417e-08,\n",
       "        7.3001e-07, 4.0792e-05, 4.5313e-05, 1.9607e-05, 1.3386e-04, 5.2001e-07,\n",
       "        5.2198e-07, 3.2524e-07, 1.5227e-08, 2.9567e-09, 5.7634e-07, 8.9320e-06,\n",
       "        9.2540e-06, 1.0470e-06, 2.7471e-05, 6.1444e-06, 3.9702e-05, 1.9783e-07,\n",
       "        1.3053e-06, 1.2606e-06, 8.1274e-07, 2.9047e-06, 3.4149e-07, 8.3699e-11,\n",
       "        5.0005e-07, 7.7232e-06, 3.2993e-06, 3.6407e-07, 4.5690e-06, 8.1249e-06,\n",
       "        1.2455e-05, 1.2388e-06, 1.3864e-06, 1.2430e-06, 5.8929e-07, 3.2520e-06,\n",
       "        1.1051e-06, 2.0345e-08, 3.8007e-07, 1.9093e-06, 2.5173e-07, 1.0501e-07,\n",
       "        1.3594e-05, 4.2702e-06, 4.7801e-06, 4.7833e-06, 8.2968e-06, 5.7038e-06,\n",
       "        2.0944e-06, 1.6591e-06, 4.1482e-06, 6.1346e-08, 3.5052e-07, 1.8433e-07,\n",
       "        2.4297e-06, 1.3450e-08, 2.7285e-07, 2.5769e-06, 3.8994e-07, 1.1377e-06,\n",
       "        9.1855e-07, 2.2976e-06, 2.3629e-06, 3.5299e-09, 5.9476e-06, 6.3332e-09,\n",
       "        2.6041e-07, 8.0776e-07, 4.3102e-07, 5.9779e-08, 2.2114e-07, 1.8760e-07,\n",
       "        9.8773e-08, 4.0128e-06, 4.9535e-06, 7.6382e-06, 1.6387e-06, 3.3181e-06,\n",
       "        3.1083e-09, 3.9587e-08, 2.2686e-07, 4.1988e-07, 1.0972e-05, 1.1875e-06,\n",
       "        5.6818e-08, 4.7512e-07, 6.3749e-06, 5.7184e-05, 3.7241e-06, 5.5287e-08,\n",
       "        1.1621e-06, 6.5791e-07, 1.1051e-08, 1.8730e-08, 2.1836e-06, 3.4597e-08,\n",
       "        1.8627e-08, 1.8172e-07, 3.0447e-08, 7.3674e-09, 2.0618e-06, 1.4071e-06,\n",
       "        1.2247e-04, 6.0602e-08, 8.0684e-07, 9.3718e-07],\n",
       "       grad_fn=<MulBackward0>)"
      ]
     },
     "execution_count": 12,
     "metadata": {},
     "output_type": "execute_result"
    }
   ],
   "source": [
    "mask.median(dim=0)[0] * bull_cls.median(dim=0)[0]"
   ]
  },
  {
   "cell_type": "code",
   "execution_count": 16,
   "metadata": {},
   "outputs": [
    {
     "data": {
      "text/plain": [
       "torch.Size([196])"
      ]
     },
     "execution_count": 16,
     "metadata": {},
     "output_type": "execute_result"
    }
   ],
   "source": [
    "mask.median(dim=0)[0].shape"
   ]
  },
  {
   "cell_type": "code",
   "execution_count": 22,
   "metadata": {},
   "outputs": [
    {
     "data": {
      "text/plain": [
       "tensor([0.4970, 0.4711, 0.6054, 0.4840, 0.7468, 0.4163, 0.6187, 0.5531, 0.7864,\n",
       "        0.6266, 0.4810, 0.5735, 0.4767, 0.4991, 0.5640, 0.3642, 0.7432, 0.5519,\n",
       "        0.8052, 0.5802, 0.6305, 0.4095, 0.6958, 0.7538, 0.7165, 0.7230, 0.3045,\n",
       "        0.2954, 0.4629, 0.7471, 0.5300, 0.6243, 0.2851, 0.3179, 0.3755, 0.4331,\n",
       "        0.7235, 0.6735, 0.5457, 0.5860, 0.6767, 0.6316, 0.4237, 0.6356, 0.4745,\n",
       "        0.4225, 0.2674, 0.3119, 0.3969, 0.6578, 0.6387, 0.4265, 0.5098, 0.5013,\n",
       "        0.4141, 0.3722, 0.5265, 0.5468, 0.5178, 0.6694, 0.3573, 0.5265, 0.6950,\n",
       "        0.6554, 0.5062, 0.5085, 0.3146, 0.7686, 0.3711, 0.4631, 0.4909, 0.5229,\n",
       "        0.5551, 0.7128, 0.6108, 0.4031, 0.5073, 0.5020, 0.5610, 0.5356, 0.3035,\n",
       "        0.8496, 0.5766, 0.1968, 0.6636, 0.6843, 0.5210, 0.4154, 0.5841, 0.1929,\n",
       "        0.4814, 0.6185, 0.3724, 0.5322, 0.8223, 0.5084, 0.3419, 0.5342, 0.6199,\n",
       "        0.5475, 0.7114, 0.7061, 0.8981, 0.4213, 0.6824, 0.5687, 0.6922, 0.4009,\n",
       "        0.4789, 0.5667, 0.5461, 0.7017, 0.3815, 0.3841, 0.5327, 0.8875, 0.6544,\n",
       "        0.2810, 0.4849, 0.5565, 0.6747, 0.3478, 0.3997, 0.6495, 0.5362, 0.4909,\n",
       "        0.5500, 0.6922, 0.5952, 0.6033, 0.4535, 0.4322, 0.6078, 0.7807, 0.7403,\n",
       "        0.5469, 0.2040, 0.6239, 0.4941, 0.4242, 0.2918, 0.8414, 0.8066, 0.6993,\n",
       "        0.5968, 0.6664, 0.4857, 0.6963, 0.3278, 0.5610, 0.6838, 0.3471, 0.4357,\n",
       "        0.1770, 0.4821, 0.5506, 0.7369, 0.7909, 0.6158, 0.7080, 0.4483, 0.2637,\n",
       "        0.2945, 0.5174, 0.6133, 0.6366, 0.4917, 0.6821, 0.3257, 0.3317, 0.5993,\n",
       "        0.6591, 0.3697, 0.5220, 0.3930, 0.2244, 0.5648, 0.6927, 0.5779, 0.2530,\n",
       "        0.3625, 0.7838, 0.3893, 0.6070, 0.4665, 0.3775, 0.5977, 0.4688, 0.5766,\n",
       "        0.2724, 0.6271, 0.3514, 0.7485, 0.4214, 0.4945, 0.5814],\n",
       "       grad_fn=<DivBackward0>)"
      ]
     },
     "execution_count": 22,
     "metadata": {},
     "output_type": "execute_result"
    }
   ],
   "source": [
    "F.cosine_similarity(mask, bull_cls, dim=0)"
   ]
  },
  {
   "cell_type": "code",
   "execution_count": 37,
   "metadata": {},
   "outputs": [],
   "source": [
    "visu(image_bull, F.cosine_similarity(mask.median(dim=0)[0].unsqueeze(0), bull_cls.median(dim=0)[0].unsqueeze(0), dim=0), 'cosine_bull_mask')"
   ]
  },
  {
   "cell_type": "code",
   "execution_count": 35,
   "metadata": {},
   "outputs": [
    {
     "name": "stderr",
     "output_type": "stream",
     "text": [
      "C:\\Users\\asher\\Anaconda3\\envs\\explainability\\lib\\site-packages\\torch\\nn\\functional.py:3613: UserWarning: Default upsampling behavior when mode=bilinear is changed to align_corners=False since 0.4.0. Please specify align_corners=True if the old behavior is desired. See the documentation of nn.Upsample for details.\n",
      "  \"See the documentation of nn.Upsample for details.\".format(mode)\n"
     ]
    }
   ],
   "source": [
    "visu(image_bull, F.cosine_similarity(mask, bull_cls, dim=0), 'cosine_bull_mask')"
   ]
  },
  {
   "cell_type": "code",
   "execution_count": 34,
   "metadata": {},
   "outputs": [
    {
     "name": "stderr",
     "output_type": "stream",
     "text": [
      "C:\\Users\\asher\\Anaconda3\\envs\\explainability\\lib\\site-packages\\torch\\nn\\functional.py:3613: UserWarning: Default upsampling behavior when mode=bilinear is changed to align_corners=False since 0.4.0. Please specify align_corners=True if the old behavior is desired. See the documentation of nn.Upsample for details.\n",
      "  \"See the documentation of nn.Upsample for details.\".format(mode)\n"
     ]
    }
   ],
   "source": [
    "visu(image_bull, F.cosine_similarity(mask.median(dim=0)[0].unsqueeze(0), bull_cls.median(dim=0)[0].unsqueeze(0), dim=0), 'cosine_bull_mask')"
   ]
  },
  {
   "cell_type": "code",
   "execution_count": 38,
   "metadata": {},
   "outputs": [
    {
     "name": "stderr",
     "output_type": "stream",
     "text": [
      "C:\\Users\\asher\\Anaconda3\\envs\\explainability\\lib\\site-packages\\torch\\nn\\functional.py:3613: UserWarning: Default upsampling behavior when mode=bilinear is changed to align_corners=False since 0.4.0. Please specify align_corners=True if the old behavior is desired. See the documentation of nn.Upsample for details.\n",
      "  \"See the documentation of nn.Upsample for details.\".format(mode)\n"
     ]
    }
   ],
   "source": [
    "visu(image_bull, mask.median(dim=0)[0] * bull_cls.median(dim=0)[0], 'bull_dot_mask')"
   ]
  }
 ],
 "metadata": {
  "kernelspec": {
   "display_name": "Python 3",
   "language": "python",
   "name": "python3"
  },
  "language_info": {
   "codemirror_mode": {
    "name": "ipython",
    "version": 3
   },
   "file_extension": ".py",
   "mimetype": "text/x-python",
   "name": "python",
   "nbconvert_exporter": "python",
   "pygments_lexer": "ipython3",
   "version": "3.7.0"
  }
 },
 "nbformat": 4,
 "nbformat_minor": 2
}
