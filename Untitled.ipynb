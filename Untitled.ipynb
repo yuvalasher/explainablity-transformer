{
 "cells": [
  {
   "cell_type": "code",
   "execution_count": 4,
   "id": "a6f82d2a-96c6-4534-8313-43d2b0c26b83",
   "metadata": {},
   "outputs": [],
   "source": [
    "from pathlib import Path\n",
    "import pickle\n",
    "import torch"
   ]
  },
  {
   "cell_type": "code",
   "execution_count": 30,
   "id": "115c6278-a1c2-4860-b50f-d0218dca0e10",
   "metadata": {},
   "outputs": [],
   "source": [
    "a = torch.Tensor([0.1,0.2,0.3,0.4,0.5])\n",
    "a = torch.rand(10)"
   ]
  },
  {
   "cell_type": "code",
   "execution_count": 31,
   "id": "b1c80c78-560d-4e44-b8e9-e8faf7b65c46",
   "metadata": {},
   "outputs": [
    {
     "data": {
      "text/plain": [
       "tensor([0.6915, 0.4566, 0.6560, 0.4172, 0.0920, 0.6307, 0.3981, 0.9798, 0.7441,\n",
       "        0.8648])"
      ]
     },
     "execution_count": 31,
     "metadata": {},
     "output_type": "execute_result"
    }
   ],
   "source": [
    "a"
   ]
  },
  {
   "cell_type": "code",
   "execution_count": 42,
   "id": "d1cfcb7d-1f21-4019-a36d-081ac135d9be",
   "metadata": {},
   "outputs": [
    {
     "data": {
      "text/plain": [
       "tensor(0.0920)"
      ]
     },
     "execution_count": 42,
     "metadata": {},
     "output_type": "execute_result"
    }
   ],
   "source": [
    "torch.quantile(a,q=0)"
   ]
  },
  {
   "cell_type": "code",
   "execution_count": 37,
   "id": "64d0fb9e-59f5-4ec1-b624-c9c6efaa8042",
   "metadata": {},
   "outputs": [
    {
     "data": {
      "text/plain": [
       "tensor(0.5931)"
      ]
     },
     "execution_count": 37,
     "metadata": {},
     "output_type": "execute_result"
    }
   ],
   "source": [
    "a.mean()"
   ]
  },
  {
   "cell_type": "code",
   "execution_count": 41,
   "id": "9fe44761-ddc7-425f-8be2-69982163d404",
   "metadata": {},
   "outputs": [
    {
     "data": {
      "text/plain": [
       "array([0. , 0.1, 0.2, 0.3, 0.4, 0.5, 0.6, 0.7, 0.8, 0.9])"
      ]
     },
     "execution_count": 41,
     "metadata": {},
     "output_type": "execute_result"
    }
   ],
   "source": [
    "import numpy as np\n",
    "np.arange(0,1,0.1)"
   ]
  },
  {
   "cell_type": "code",
   "execution_count": 43,
   "id": "ba545103-a71e-4f3a-a4ec-583e983190c3",
   "metadata": {},
   "outputs": [],
   "source": [
    "a={'base':[1,2],\n",
    "  'opt':[3,4]}"
   ]
  },
  {
   "cell_type": "code",
   "execution_count": 65,
   "id": "2dac810e-5971-469f-8d9b-6f9aa65c8f80",
   "metadata": {},
   "outputs": [],
   "source": [
    "k = [k for k in a.keys()]"
   ]
  },
  {
   "cell_type": "code",
   "execution_count": 69,
   "id": "11b18baf-0687-4a43-90b4-e50e57fec283",
   "metadata": {},
   "outputs": [
    {
     "name": "stdout",
     "output_type": "stream",
     "text": [
      "(1, 3)\n",
      "(2, 4)\n"
     ]
    }
   ],
   "source": [
    "for x in zip(a[k[0]],a[k[1]]):\n",
    "    "
   ]
  },
  {
   "cell_type": "code",
   "execution_count": null,
   "id": "a813f4dd-6bd3-43fb-a403-bf07d68682e4",
   "metadata": {},
   "outputs": [],
   "source": []
  }
 ],
 "metadata": {
  "kernelspec": {
   "display_name": "explainablity_nlp_transformer",
   "language": "python",
   "name": "explainablity_nlp_transformer"
  },
  "language_info": {
   "codemirror_mode": {
    "name": "ipython",
    "version": 3
   },
   "file_extension": ".py",
   "mimetype": "text/x-python",
   "name": "python",
   "nbconvert_exporter": "python",
   "pygments_lexer": "ipython3",
   "version": "3.7.11"
  }
 },
 "nbformat": 4,
 "nbformat_minor": 5
}
